{
  "nbformat": 4,
  "nbformat_minor": 0,
  "metadata": {
    "colab": {
      "name": "Armstrong_number.ipynb",
      "provenance": [],
      "authorship_tag": "ABX9TyMzvLHTmz9K6LK2PM5BfV0o",
      "include_colab_link": true
    },
    "kernelspec": {
      "name": "python3",
      "display_name": "Python 3"
    }
  },
  "cells": [
    {
      "cell_type": "markdown",
      "metadata": {
        "id": "view-in-github",
        "colab_type": "text"
      },
      "source": [
        "<a href=\"https://colab.research.google.com/github/glory-ub/SCAMP-Assessment/blob/master/Armstrong_number.ipynb\" target=\"_parent\"><img src=\"https://colab.research.google.com/assets/colab-badge.svg\" alt=\"Open In Colab\"/></a>"
      ]
    },
    {
      "cell_type": "code",
      "metadata": {
        "id": "DmOVMt_9kLMQ",
        "colab_type": "code",
        "colab": {}
      },
      "source": [
        "def armstrong(number):\n",
        "  sum_list = 0\n",
        "  #print(len(str(number)))\n",
        "  for n in list(str(number)):\n",
        "    sum_list += int(n)**len(str(number))\n",
        "  #print('sum of individual digit is {}'.format(sum_list))\n",
        "  if sum_list == number:\n",
        "    print(number)\n",
        "    #print('{} is not an armstrong number'.format(number))\n",
        " # else:\n",
        "    #print('{} is an armstrong number'.format(number))"
      ],
      "execution_count": null,
      "outputs": []
    },
    {
      "cell_type": "code",
      "metadata": {
        "id": "Z_YjAcDMmGrp",
        "colab_type": "code",
        "colab": {
          "base_uri": "https://localhost:8080/",
          "height": 238
        },
        "outputId": "d1043a93-9404-4f44-b786-8c13c449dcc8"
      },
      "source": [
        "for n in range(1,1000):\n",
        "  armstrong(n)"
      ],
      "execution_count": null,
      "outputs": [
        {
          "output_type": "stream",
          "text": [
            "1\n",
            "2\n",
            "3\n",
            "4\n",
            "5\n",
            "6\n",
            "7\n",
            "8\n",
            "9\n",
            "153\n",
            "370\n",
            "371\n",
            "407\n"
          ],
          "name": "stdout"
        }
      ]
    },
    {
      "cell_type": "code",
      "metadata": {
        "id": "HLiX1aoot6e8",
        "colab_type": "code",
        "colab": {}
      },
      "source": [
        "def armstrong(number):\n",
        "  #n = len(str(number))\n",
        "  sum_total = 0\n",
        "  for x in str(number):\n",
        "    sum_total += int(x)**len(str(number))\n",
        "  if sum_total == number:\n",
        "    print(number)"
      ],
      "execution_count": null,
      "outputs": []
    },
    {
      "cell_type": "code",
      "metadata": {
        "id": "smhLPv9wpcLX",
        "colab_type": "code",
        "colab": {
          "base_uri": "https://localhost:8080/",
          "height": 357
        },
        "outputId": "61692877-eee4-428b-e50a-aac2f176166f"
      },
      "source": [
        "for y in list(range(1,1000000)):\n",
        "  armstrong(y)"
      ],
      "execution_count": null,
      "outputs": [
        {
          "output_type": "stream",
          "text": [
            "1\n",
            "2\n",
            "3\n",
            "4\n",
            "5\n",
            "6\n",
            "7\n",
            "8\n",
            "9\n",
            "153\n",
            "370\n",
            "371\n",
            "407\n",
            "1634\n",
            "8208\n",
            "9474\n",
            "54748\n",
            "92727\n",
            "93084\n",
            "548834\n"
          ],
          "name": "stdout"
        }
      ]
    },
    {
      "cell_type": "code",
      "metadata": {
        "id": "61i_l7jFFMwG",
        "colab_type": "code",
        "colab": {}
      },
      "source": [
        ""
      ],
      "execution_count": null,
      "outputs": []
    }
  ]
}