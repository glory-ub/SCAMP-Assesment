{
  "nbformat": 4,
  "nbformat_minor": 0,
  "metadata": {
    "colab": {
      "name": "DSN_tutorial.ipynb",
      "provenance": [],
      "authorship_tag": "ABX9TyMI4AyMw7p6tlqsLKSGzrQI",
      "include_colab_link": true
    },
    "kernelspec": {
      "name": "python3",
      "display_name": "Python 3"
    }
  },
  "cells": [
    {
      "cell_type": "markdown",
      "metadata": {
        "id": "view-in-github",
        "colab_type": "text"
      },
      "source": [
        "<a href=\"https://colab.research.google.com/github/glory-ub/SCAMP-Assessment/blob/master/DSN_tutorial.ipynb\" target=\"_parent\"><img src=\"https://colab.research.google.com/assets/colab-badge.svg\" alt=\"Open In Colab\"/></a>"
      ]
    },
    {
      "cell_type": "code",
      "metadata": {
        "id": "ajqqvghlK3Kg",
        "colab_type": "code",
        "colab": {
          "base_uri": "https://localhost:8080/",
          "height": 306
        },
        "outputId": "409a96e7-90a9-4fc3-d921-c4103e9095d8"
      },
      "source": [
        "import sys\n",
        "get_ipython().system('{sys.executable} -m pip install quandl')"
      ],
      "execution_count": null,
      "outputs": [
        {
          "output_type": "stream",
          "text": [
            "Collecting quandl\n",
            "  Downloading https://files.pythonhosted.org/packages/21/ce/281f4ae2554ba676735157a91205e808af149e97be534d6a1b9196638e63/Quandl-3.5.1-py2.py3-none-any.whl\n",
            "Requirement already satisfied: six in /usr/local/lib/python3.6/dist-packages (from quandl) (1.12.0)\n",
            "Requirement already satisfied: pandas>=0.14 in /usr/local/lib/python3.6/dist-packages (from quandl) (1.0.5)\n",
            "Requirement already satisfied: python-dateutil in /usr/local/lib/python3.6/dist-packages (from quandl) (2.8.1)\n",
            "Collecting inflection>=0.3.1\n",
            "  Downloading https://files.pythonhosted.org/packages/d2/cd/f04c661d1b5ba6b7d77008e8fedd28a27a683eeeffcd93c6b2dbe54ea983/inflection-0.5.0-py2.py3-none-any.whl\n",
            "Requirement already satisfied: numpy>=1.8 in /usr/local/lib/python3.6/dist-packages (from quandl) (1.18.5)\n",
            "Requirement already satisfied: requests>=2.7.0 in /usr/local/lib/python3.6/dist-packages (from quandl) (2.23.0)\n",
            "Requirement already satisfied: more-itertools in /usr/local/lib/python3.6/dist-packages (from quandl) (8.4.0)\n",
            "Requirement already satisfied: pytz>=2017.2 in /usr/local/lib/python3.6/dist-packages (from pandas>=0.14->quandl) (2018.9)\n",
            "Requirement already satisfied: chardet<4,>=3.0.2 in /usr/local/lib/python3.6/dist-packages (from requests>=2.7.0->quandl) (3.0.4)\n",
            "Requirement already satisfied: urllib3!=1.25.0,!=1.25.1,<1.26,>=1.21.1 in /usr/local/lib/python3.6/dist-packages (from requests>=2.7.0->quandl) (1.24.3)\n",
            "Requirement already satisfied: certifi>=2017.4.17 in /usr/local/lib/python3.6/dist-packages (from requests>=2.7.0->quandl) (2020.6.20)\n",
            "Requirement already satisfied: idna<3,>=2.5 in /usr/local/lib/python3.6/dist-packages (from requests>=2.7.0->quandl) (2.9)\n",
            "Installing collected packages: inflection, quandl\n",
            "Successfully installed inflection-0.5.0 quandl-3.5.1\n"
          ],
          "name": "stdout"
        }
      ]
    },
    {
      "cell_type": "code",
      "metadata": {
        "id": "_uuh_dktK-tf",
        "colab_type": "code",
        "colab": {}
      },
      "source": [
        "import pandas as pd\n",
        "#import quandl as qd\n",
        "import matplotlib.pyplot as plt\n",
        "from matplotlib import style\n",
        "import math\n",
        "import numpy as np\n",
        "from sklearn import preprocessing, svm\n",
        "from sklearn.model_selection import train_test_split, cross_validate,cross_val_score\n",
        "from sklearn.linear_model import LinearRegression\n",
        "import datetime\n",
        "from datetime import datetime\n",
        "import pickle\n",
        "style.use('ggplot')\n",
        "\n",
        "#df1 = qd.get('WIKI/GOOGL')\n",
        "#print(df1.tail())"
      ],
      "execution_count": null,
      "outputs": []
    },
    {
      "cell_type": "code",
      "metadata": {
        "id": "qBNOGzJPLIM1",
        "colab_type": "code",
        "colab": {
          "base_uri": "https://localhost:8080/",
          "height": 221
        },
        "outputId": "2039a755-ac26-456f-9fbf-6a9391908f7f"
      },
      "source": [
        "df = df1[['Adj. Open','Adj. Close','Adj. High','Adj. Low','Adj. Volume']]\n",
        "df.loc[:,'HL_PCT'] = (df.loc[:,'Adj. High']-df.loc[:,'Adj. Low'])/df.loc[:,'Adj. Close']*100\n",
        "df.loc[:,'PCT_change'] = (df.loc[:,'Adj. High']-df.loc[:,'Adj. Close'])/df.loc[:,'Adj. Close']*100"
      ],
      "execution_count": null,
      "outputs": [
        {
          "output_type": "stream",
          "text": [
            "/usr/local/lib/python3.6/dist-packages/pandas/core/indexing.py:845: SettingWithCopyWarning: \n",
            "A value is trying to be set on a copy of a slice from a DataFrame.\n",
            "Try using .loc[row_indexer,col_indexer] = value instead\n",
            "\n",
            "See the caveats in the documentation: https://pandas.pydata.org/pandas-docs/stable/user_guide/indexing.html#returning-a-view-versus-a-copy\n",
            "  self.obj[key] = _infer_fill_value(value)\n",
            "/usr/local/lib/python3.6/dist-packages/pandas/core/indexing.py:1048: SettingWithCopyWarning: \n",
            "A value is trying to be set on a copy of a slice from a DataFrame.\n",
            "Try using .loc[row_indexer,col_indexer] = value instead\n",
            "\n",
            "See the caveats in the documentation: https://pandas.pydata.org/pandas-docs/stable/user_guide/indexing.html#returning-a-view-versus-a-copy\n",
            "  self.obj[item_labels[indexer[info_axis]]] = value\n"
          ],
          "name": "stderr"
        }
      ]
    },
    {
      "cell_type": "code",
      "metadata": {
        "id": "Zd4_JL96LQKY",
        "colab_type": "code",
        "colab": {
          "base_uri": "https://localhost:8080/",
          "height": 170
        },
        "outputId": "17a59ad7-aea2-4f9a-8e81-69f6f76831a7"
      },
      "source": [
        "print(df.head())"
      ],
      "execution_count": null,
      "outputs": [
        {
          "output_type": "stream",
          "text": [
            "            Adj. Open  Adj. Close  Adj. High  ...  Adj. Volume    HL_PCT  PCT_change\n",
            "Date                                          ...                                   \n",
            "2004-08-19  50.159839   50.322842  52.191109  ...   44659000.0  8.072956    3.712563\n",
            "2004-08-20  50.661387   54.322689  54.708881  ...   22834300.0  7.921706    0.710922\n",
            "2004-08-23  55.551482   54.869377  56.915693  ...   18256100.0  4.049360    3.729433\n",
            "2004-08-24  55.792225   52.597363  55.972783  ...   15247300.0  7.657099    6.417469\n",
            "2004-08-25  52.542193   53.164113  54.167209  ...    9188600.0  3.886792    1.886792\n",
            "\n",
            "[5 rows x 7 columns]\n"
          ],
          "name": "stdout"
        }
      ]
    },
    {
      "cell_type": "code",
      "metadata": {
        "id": "Vh1ovtHgLhxA",
        "colab_type": "code",
        "colab": {
          "base_uri": "https://localhost:8080/",
          "height": 136
        },
        "outputId": "9681b9be-1e70-4471-f1a9-6b22182ca9a9"
      },
      "source": [
        "df = df[['Adj. Close','HL_PCT','PCT_change','Adj. Volume']]\n",
        "print(df.head())"
      ],
      "execution_count": null,
      "outputs": [
        {
          "output_type": "stream",
          "text": [
            "            Adj. Close    HL_PCT  PCT_change  Adj. Volume\n",
            "Date                                                     \n",
            "2004-08-19   50.322842  8.072956    3.712563   44659000.0\n",
            "2004-08-20   54.322689  7.921706    0.710922   22834300.0\n",
            "2004-08-23   54.869377  4.049360    3.729433   18256100.0\n",
            "2004-08-24   52.597363  7.657099    6.417469   15247300.0\n",
            "2004-08-25   53.164113  3.886792    1.886792    9188600.0\n"
          ],
          "name": "stdout"
        }
      ]
    },
    {
      "cell_type": "code",
      "metadata": {
        "id": "vkl846zvMtDG",
        "colab_type": "code",
        "colab": {
          "base_uri": "https://localhost:8080/",
          "height": 136
        },
        "outputId": "b5c182a5-f002-4c91-ee9d-a305ff0ad555"
      },
      "source": [
        "forecast_col = 'Adj. Close'\n",
        "df.fillna(-99999, inplace=True)\n",
        "forecast_out = int(math.ceil(0.01*len(df)))\n",
        "df['Label'] = df[forecast_col].shift(-forecast_out)\n",
        "print(df.head())"
      ],
      "execution_count": null,
      "outputs": [
        {
          "output_type": "stream",
          "text": [
            "            Adj. Close    HL_PCT  PCT_change  Adj. Volume      Label\n",
            "Date                                                                \n",
            "2004-08-19   50.322842  8.072956    3.712563   44659000.0  69.078238\n",
            "2004-08-20   54.322689  7.921706    0.710922   22834300.0  67.839414\n",
            "2004-08-23   54.869377  4.049360    3.729433   18256100.0  68.912727\n",
            "2004-08-24   52.597363  7.657099    6.417469   15247300.0  70.668146\n",
            "2004-08-25   53.164113  3.886792    1.886792    9188600.0  71.219849\n"
          ],
          "name": "stdout"
        }
      ]
    },
    {
      "cell_type": "code",
      "metadata": {
        "id": "tXJFWnxJM0c4",
        "colab_type": "code",
        "colab": {
          "base_uri": "https://localhost:8080/",
          "height": 34
        },
        "outputId": "d6a66887-a30a-49ca-8306-69a835689a90"
      },
      "source": [
        "X = np.array(df.drop(['Label'],1))\n",
        "X = preprocessing.scale(X)\n",
        "X = X[:-forecast_out]\n",
        "X_latest = X[-forecast_out:]\n",
        "df.dropna(inplace=True)\n",
        "y= np.array(df['Label'])\n",
        "print(len(X),len(y))"
      ],
      "execution_count": null,
      "outputs": [
        {
          "output_type": "stream",
          "text": [
            "3389 3389\n"
          ],
          "name": "stdout"
        }
      ]
    },
    {
      "cell_type": "code",
      "metadata": {
        "id": "7K6Wvmz1NSuw",
        "colab_type": "code",
        "colab": {
          "base_uri": "https://localhost:8080/",
          "height": 272
        },
        "outputId": "d248695b-2a08-41e7-c9f6-04696de5751e"
      },
      "source": [
        "X_train, X_test, y_train, y_test = train_test_split(X,y,test_size=0.2)\n",
        "clf = LinearRegression(n_jobs =-1)\n",
        "train_fit = clf.fit(X_train, y_train)\n",
        "with open('linearregression.pickle','wb') as f:\n",
        "    pickle.dump(clf,f)\n",
        "pickle_in =  open('linearregression.pickle','rb')\n",
        "clf = pickle.load(pickle_in)\n",
        "y_test_predict = clf.predict(X_test)\n",
        "forecast_set = clf.predict(X_latest)\n",
        "print(clf.score(X_test, y_test ))\n",
        "print(cross_val_score(clf, X, y, cv=3))\n",
        "#cross_val_score(y_test,y_test_predict)\n",
        "#print(forecast_set, forecast_out)\n",
        "df['forecast'] = np.nan\n",
        "print(df.forecast)"
      ],
      "execution_count": null,
      "outputs": [
        {
          "output_type": "stream",
          "text": [
            "0.9796138872248075\n",
            "[0.55611934 0.82273492 0.80216138]\n",
            "Date\n",
            "2004-08-19   NaN\n",
            "2004-08-20   NaN\n",
            "2004-08-23   NaN\n",
            "2004-08-24   NaN\n",
            "2004-08-25   NaN\n",
            "              ..\n",
            "2018-01-30   NaN\n",
            "2018-01-31   NaN\n",
            "2018-02-01   NaN\n",
            "2018-02-02   NaN\n",
            "2018-02-05   NaN\n",
            "Name: forecast, Length: 3389, dtype: float64\n"
          ],
          "name": "stdout"
        }
      ]
    },
    {
      "cell_type": "code",
      "metadata": {
        "id": "mKeOuWKkNYBi",
        "colab_type": "code",
        "colab": {
          "base_uri": "https://localhost:8080/",
          "height": 493
        },
        "outputId": "4f26fcae-d56d-4e45-886d-6e3bd0e646be"
      },
      "source": [
        "last_date = df.iloc[-1].name\n",
        "last_unix = last_date.timestamp()\n",
        "one_day = 86400\n",
        "next_unix = last_unix + one_day\n",
        "for i in forecast_set:\n",
        "    next_date = datetime.fromtimestamp(next_unix)\n",
        "    next_unix += one_day\n",
        "    df.loc[next_date] = [np.nan for _ in range(len(df.columns)-1)] + [i]\n",
        "#print(df.tail())\n",
        "\n",
        "df['Adj. Close'].plot()\n",
        "df['forecast'].plot()\n",
        "plt.legend(loc=4)\n",
        "plt.xlabel('Date')\n",
        "plt.ylabel('Price')\n",
        "plt.show()\n",
        "print(df.forecast)"
      ],
      "execution_count": null,
      "outputs": [
        {
          "output_type": "display_data",
          "data": {
            "image/png": "[encoded data removed]",
            "text/plain": [
              "<Figure size 432x288 with 1 Axes>"
            ]
          },
          "metadata": {
            "tags": []
          }
        },
        {
          "output_type": "stream",
          "text": [
            "Date\n",
            "2004-08-19            NaN\n",
            "2004-08-20            NaN\n",
            "2004-08-23            NaN\n",
            "2004-08-24            NaN\n",
            "2004-08-25            NaN\n",
            "                 ...     \n",
            "2018-03-08    1198.118244\n",
            "2018-03-09    1202.994938\n",
            "2018-03-10    1201.606262\n",
            "2018-03-11    1137.386728\n",
            "2018-03-12    1082.198512\n",
            "Name: forecast, Length: 3424, dtype: float64\n"
          ],
          "name": "stdout"
        }
      ]
    },
    {
      "cell_type": "code",
      "metadata": {
        "id": "aZwYzJWvNwdY",
        "colab_type": "code",
        "colab": {
          "base_uri": "https://localhost:8080/",
          "height": 68
        },
        "outputId": "a0c875d2-7721-450c-d826-9947dd10ec3f"
      },
      "source": [
        "#print(df.drop(['Label'],1).columns)\n",
        "print(df.columns)\n"
      ],
      "execution_count": null,
      "outputs": [
        {
          "output_type": "stream",
          "text": [
            "Index(['Adj. Close', 'HL_PCT', 'PCT_change', 'Adj. Volume', 'Label',\n",
            "       'forecast'],\n",
            "      dtype='object')\n"
          ],
          "name": "stdout"
        }
      ]
    },
    {
      "cell_type": "code",
      "metadata": {
        "id": "gWjjYG79N2xR",
        "colab_type": "code",
        "colab": {
          "base_uri": "https://localhost:8080/",
          "height": 255
        },
        "outputId": "c530a37f-676d-4010-9e92-9c0710f10c1b"
      },
      "source": [
        "data = pd.DataFrame(list(range(1,100)))\n",
        "data['1'] = data*2\n",
        "data['1'] = data[:-20]\n",
        "print(data)"
      ],
      "execution_count": null,
      "outputs": [
        {
          "output_type": "stream",
          "text": [
            "     0    1\n",
            "0    1  1.0\n",
            "1    2  2.0\n",
            "2    3  3.0\n",
            "3    4  4.0\n",
            "4    5  5.0\n",
            "..  ..  ...\n",
            "94  95  NaN\n",
            "95  96  NaN\n",
            "96  97  NaN\n",
            "97  98  NaN\n",
            "98  99  NaN\n",
            "\n",
            "[99 rows x 2 columns]\n"
          ],
          "name": "stdout"
        }
      ]
    },
    {
      "cell_type": "code",
      "metadata": {
        "id": "ZDPmqnBCN6c8",
        "colab_type": "code",
        "colab": {
          "base_uri": "https://localhost:8080/",
          "height": 136
        },
        "outputId": "4fa48d94-9979-41bb-9d1a-6806075b8133"
      },
      "source": [
        "#X_latest\n",
        "X_test"
      ],
      "execution_count": null,
      "outputs": [
        {
          "output_type": "execute_result",
          "data": {
            "text/plain": [
              "array([[-0.53358773, -0.43660654, -0.18904261, -0.03867677],\n",
              "       [-0.45831731, -0.54221841, -0.92904908, -0.337658  ],\n",
              "       [-0.62302487,  1.40231899,  2.14952379,  2.23950753],\n",
              "       ...,\n",
              "       [-0.45786974, -0.63636431,  0.02207463, -0.19021055],\n",
              "       [-0.73054014,  0.07456336,  0.6041611 ,  0.66349319],\n",
              "       [ 1.36210044, -0.40390557,  0.13361368, -0.79346559]])"
            ]
          },
          "metadata": {
            "tags": []
          },
          "execution_count": 20
        }
      ]
    },
    {
      "cell_type": "code",
      "metadata": {
        "id": "8MraLPSsOACj",
        "colab_type": "code",
        "colab": {}
      },
      "source": [
        "start = df.iloc[-1].name"
      ],
      "execution_count": null,
      "outputs": []
    },
    {
      "cell_type": "code",
      "metadata": {
        "id": "NOnrSRGHOFJu",
        "colab_type": "code",
        "colab": {
          "base_uri": "https://localhost:8080/",
          "height": 629
        },
        "outputId": "02d1bd95-b1b1-4ab1-e8a2-772a83375f27"
      },
      "source": [
        "\n",
        "from datetime import datetime\n",
        "from datetime import timedelta\n",
        "end = df.iloc[-1].name + timedelta(days =forecast_out)\n",
        "for i in pd.date_range(start, end):\n",
        "    print(i)"
      ],
      "execution_count": null,
      "outputs": [
        {
          "output_type": "stream",
          "text": [
            "2018-03-12 00:00:00\n",
            "2018-03-13 00:00:00\n",
            "2018-03-14 00:00:00\n",
            "2018-03-15 00:00:00\n",
            "2018-03-16 00:00:00\n",
            "2018-03-17 00:00:00\n",
            "2018-03-18 00:00:00\n",
            "2018-03-19 00:00:00\n",
            "2018-03-20 00:00:00\n",
            "2018-03-21 00:00:00\n",
            "2018-03-22 00:00:00\n",
            "2018-03-23 00:00:00\n",
            "2018-03-24 00:00:00\n",
            "2018-03-25 00:00:00\n",
            "2018-03-26 00:00:00\n",
            "2018-03-27 00:00:00\n",
            "2018-03-28 00:00:00\n",
            "2018-03-29 00:00:00\n",
            "2018-03-30 00:00:00\n",
            "2018-03-31 00:00:00\n",
            "2018-04-01 00:00:00\n",
            "2018-04-02 00:00:00\n",
            "2018-04-03 00:00:00\n",
            "2018-04-04 00:00:00\n",
            "2018-04-05 00:00:00\n",
            "2018-04-06 00:00:00\n",
            "2018-04-07 00:00:00\n",
            "2018-04-08 00:00:00\n",
            "2018-04-09 00:00:00\n",
            "2018-04-10 00:00:00\n",
            "2018-04-11 00:00:00\n",
            "2018-04-12 00:00:00\n",
            "2018-04-13 00:00:00\n",
            "2018-04-14 00:00:00\n",
            "2018-04-15 00:00:00\n",
            "2018-04-16 00:00:00\n"
          ],
          "name": "stdout"
        }
      ]
    },
    {
      "cell_type": "code",
      "metadata": {
        "id": "G5sRw7SsOJnn",
        "colab_type": "code",
        "colab": {
          "base_uri": "https://localhost:8080/",
          "height": 35
        },
        "outputId": "1bdf7aba-7cc1-4287-88d7-1815d32c5dfd"
      },
      "source": [
        "# linear regression algorithm from scratch\n",
        "import numpy as np\n",
        "from numpy import mean\n",
        "import random\n",
        "'''x = np.array(list(range(1,20)))\n",
        "y = np.array(list(range(1,20)))*2'''"
      ],
      "execution_count": null,
      "outputs": [
        {
          "output_type": "execute_result",
          "data": {
            "application/vnd.google.colaboratory.intrinsic": {
              "type": "string"
            },
            "text/plain": [
              "'x = np.array(list(range(1,20)))\\ny = np.array(list(range(1,20)))*2'"
            ]
          },
          "metadata": {
            "tags": []
          },
          "execution_count": 24
        }
      ]
    },
    {
      "cell_type": "code",
      "metadata": {
        "id": "PfFw1s01OQDl",
        "colab_type": "code",
        "colab": {}
      },
      "source": [
        "def best_fit_slope_and_intercept(x,y):\n",
        "  m = (mean(x)*mean(y) - mean(x*y))/(mean(x)**2-mean(x**2))\n",
        "  b = mean(y)-(m*mean(x))\n",
        "  return m,b"
      ],
      "execution_count": null,
      "outputs": []
    },
    {
      "cell_type": "code",
      "metadata": {
        "id": "oHWcIoVcOU9I",
        "colab_type": "code",
        "colab": {}
      },
      "source": [
        "x = np.array([1,2,3,4,5,6])\n",
        "y = np.array([5,4,6,5,6,7])\n",
        "m,b =best_fit_slope_and_intercept(x,y)"
      ],
      "execution_count": null,
      "outputs": []
    },
    {
      "cell_type": "code",
      "metadata": {
        "id": "rgdDSbpaIdWb",
        "colab_type": "code",
        "colab": {
          "base_uri": "https://localhost:8080/",
          "height": 34
        },
        "outputId": "2e1b377f-9c7f-4c6b-9c2e-b2bda7cc3fa1"
      },
      "source": [
        "print(m,b)"
      ],
      "execution_count": null,
      "outputs": [
        {
          "output_type": "stream",
          "text": [
            "0.42857142857142866 4.0\n"
          ],
          "name": "stdout"
        }
      ]
    },
    {
      "cell_type": "code",
      "metadata": {
        "id": "JiQTu_PVIfy0",
        "colab_type": "code",
        "colab": {}
      },
      "source": [
        "regression_line = (m*x) + b"
      ],
      "execution_count": null,
      "outputs": []
    },
    {
      "cell_type": "code",
      "metadata": {
        "id": "bcfDPuMsIsdd",
        "colab_type": "code",
        "colab": {
          "base_uri": "https://localhost:8080/",
          "height": 34
        },
        "outputId": "cab0f89e-43ec-4316-a9c4-42fe923fa310"
      },
      "source": [
        "print(regression_line)"
      ],
      "execution_count": null,
      "outputs": [
        {
          "output_type": "stream",
          "text": [
            "[4.42857143 4.85714286 5.28571429 5.71428571 6.14285714 6.57142857]\n"
          ],
          "name": "stdout"
        }
      ]
    },
    {
      "cell_type": "code",
      "metadata": {
        "id": "xnKzCVgGIyzF",
        "colab_type": "code",
        "colab": {
          "base_uri": "https://localhost:8080/",
          "height": 265
        },
        "outputId": "a69e539f-d8a5-4136-fbf3-047e6d0df498"
      },
      "source": [
        "plt.scatter(x,y)\n",
        "plt.plot(x,regression_line)\n",
        "plt.show()"
      ],
      "execution_count": null,
      "outputs": [
        {
          "output_type": "display_data",
          "data": {
            "image/png": "[encoded data removed]",
            "text/plain": [
              "<Figure size 432x288 with 1 Axes>"
            ]
          },
          "metadata": {
            "tags": []
          }
        }
      ]
    },
    {
      "cell_type": "code",
      "metadata": {
        "id": "6aQZ1NJlJAkz",
        "colab_type": "code",
        "colab": {}
      },
      "source": [
        "def squared_error(y_orig,y_line):\n",
        "  return(sum((y_line - y_orig)**2))\n",
        "\n",
        "def coeficient_determination(y_orig,y_line):\n",
        "  y_mean_line = [mean(y_orig) for y_ in y_orig]\n",
        "  squared_error_regres = squared_error(y_orig,y_line)\n",
        "  squared_error_y_mean = squared_error(y_orig, y_mean_line)\n",
        "  return 1 - (squared_error_regres / squared_error_y_mean)\n"
      ],
      "execution_count": null,
      "outputs": []
    },
    {
      "cell_type": "code",
      "metadata": {
        "id": "ig-YgpE9O__i",
        "colab_type": "code",
        "colab": {
          "base_uri": "https://localhost:8080/",
          "height": 34
        },
        "outputId": "33509bd6-013d-46c8-c4bd-1692003ed2ce"
      },
      "source": [
        "coeficient_determination(y,regression_line)"
      ],
      "execution_count": null,
      "outputs": [
        {
          "output_type": "execute_result",
          "data": {
            "text/plain": [
              "0.5844155844155845"
            ]
          },
          "metadata": {
            "tags": []
          },
          "execution_count": 19
        }
      ]
    },
    {
      "cell_type": "code",
      "metadata": {
        "id": "jN_x-DJhiIpa",
        "colab_type": "code",
        "colab": {}
      },
      "source": [
        ""
      ],
      "execution_count": null,
      "outputs": []
    },
    {
      "cell_type": "code",
      "metadata": {
        "id": "OGfUev9imiSn",
        "colab_type": "code",
        "colab": {}
      },
      "source": [
        "y_mean_line = [mean(y) for y_ in y]"
      ],
      "execution_count": null,
      "outputs": []
    },
    {
      "cell_type": "code",
      "metadata": {
        "id": "kTpT47lbn9lF",
        "colab_type": "code",
        "colab": {
          "base_uri": "https://localhost:8080/",
          "height": 34
        },
        "outputId": "e73a1256-42d4-44ba-e1d0-50159e142724"
      },
      "source": [
        "print(y_mean_line)"
      ],
      "execution_count": null,
      "outputs": [
        {
          "output_type": "stream",
          "text": [
            "[5.5, 5.5, 5.5, 5.5, 5.5, 5.5]\n"
          ],
          "name": "stdout"
        }
      ]
    },
    {
      "cell_type": "code",
      "metadata": {
        "id": "jfwJLC6asO8M",
        "colab_type": "code",
        "colab": {}
      },
      "source": [
        "def create_dataset(hm,variance,step,correlation=False):\n",
        "  val = 1\n",
        "  y = []\n",
        "  for i in range(hm):\n",
        "    y_ = val + random.randrange(-variance,variance)\n",
        "    y.append(y_)\n",
        "    if correlation and correlation =='pos':\n",
        "      val+=step\n",
        "    elif correlation and correlation == 'neg':\n",
        "      val-=step\n",
        "  x = [i for i in range(len(y))]\n",
        "  return np.array(x), np.array(y)\n"
      ],
      "execution_count": null,
      "outputs": []
    },
    {
      "cell_type": "code",
      "metadata": {
        "id": "8dFLd6bfM3De",
        "colab_type": "code",
        "colab": {}
      },
      "source": [
        "x,y = create_dataset(40, 20000, 2, correlation='neg')\n",
        "m,b =best_fit_slope_and_intercept(x,y)\n",
        "regression_line = (m*x) + b\n",
        "predict_8 = (m*8) + b"
      ],
      "execution_count": null,
      "outputs": []
    },
    {
      "cell_type": "code",
      "metadata": {
        "id": "yXHyWrLEOLRC",
        "colab_type": "code",
        "colab": {
          "base_uri": "https://localhost:8080/",
          "height": 34
        },
        "outputId": "06d77e10-e43c-4a25-d477-49529a7ab3f9"
      },
      "source": [
        "coeficient_determination(y,regression_line)"
      ],
      "execution_count": null,
      "outputs": [
        {
          "output_type": "execute_result",
          "data": {
            "text/plain": [
              "0.02066184257774606"
            ]
          },
          "metadata": {
            "tags": []
          },
          "execution_count": 50
        }
      ]
    },
    {
      "cell_type": "code",
      "metadata": {
        "id": "EuX11fXqOhI0",
        "colab_type": "code",
        "colab": {
          "base_uri": "https://localhost:8080/",
          "height": 265
        },
        "outputId": "e4b15557-efd4-4889-efe9-be4f1a6c50c2"
      },
      "source": [
        "plt.scatter(x,y)\n",
        "plt.scatter(8,predict_8)\n",
        "plt.plot(x,regression_line)\n",
        "plt.show()"
      ],
      "execution_count": null,
      "outputs": [
        {
          "output_type": "display_data",
          "data": {
            "image/png": "[encoded data removed]",
            "text/plain": [
              "<Figure size 432x288 with 1 Axes>"
            ]
          },
          "metadata": {
            "tags": []
          }
        }
      ]
    },
    {
      "cell_type": "code",
      "metadata": {
        "id": "gYVCzcDXO3Ea",
        "colab_type": "code",
        "colab": {}
      },
      "source": [
        "# K-Nearest Neigbour from scratch"
      ],
      "execution_count": null,
      "outputs": []
    },
    {
      "cell_type": "code",
      "metadata": {
        "id": "NtQXEDfA4C6g",
        "colab_type": "code",
        "colab": {}
      },
      "source": [
        "from math import sqrt\n",
        "import numpy as np\n",
        "import matplotlib.pyplot as plt\n",
        "from matplotlib import style\n",
        "from collections import Counter\n",
        "import warnings\n",
        "style.use('fivethirtyeight')"
      ],
      "execution_count": null,
      "outputs": []
    },
    {
      "cell_type": "code",
      "metadata": {
        "id": "UyvlutcN4NID",
        "colab_type": "code",
        "colab": {}
      },
      "source": [
        "#euclidean_distance = math.sqrt( (plot1[0]-plot2[0])**2 + (plot1[1]-plot2[1])**2 )\n",
        "#np.sqrt( np.sum((np.array(features)-np.array(predict))**2) )\n",
        "dataset = {'k':[[1,2],[2,3],[3,1]], 'r':[[6,5],[7,7],[8,6]]}\n",
        "new_features = [5,7]"
      ],
      "execution_count": null,
      "outputs": []
    },
    {
      "cell_type": "code",
      "metadata": {
        "id": "a4jZal6q5YJq",
        "colab_type": "code",
        "colab": {
          "base_uri": "https://localhost:8080/",
          "height": 262
        },
        "outputId": "13c953bb-f8b9-405d-ee88-2e88577f386c"
      },
      "source": [
        "[[plt.scatter(ii[0],ii[1], s=100, color=i) for ii in dataset[i]] for i in dataset]\n",
        "plt.scatter(new_features[0],new_features[1], s=100)\n",
        "plt.show()"
      ],
      "execution_count": null,
      "outputs": [
        {
          "output_type": "display_data",
          "data": {
            "image/png": "[encoded data removed]",
            "text/plain": [
              "<Figure size 432x288 with 1 Axes>"
            ]
          },
          "metadata": {
            "tags": [],
            "needs_background": "light"
          }
        }
      ]
    },
    {
      "cell_type": "markdown",
      "metadata": {
        "id": "N4oIt5L24lsI",
        "colab_type": "text"
      },
      "source": [
        ""
      ]
    },
    {
      "cell_type": "code",
      "metadata": {
        "id": "F9wuppWq_jDJ",
        "colab_type": "code",
        "colab": {}
      },
      "source": [
        "def k_nearest_neighbors(data, predict, k=3):\n",
        "  global distances\n",
        "  if len(data) >=k:\n",
        "    warnings.warn('K is set tp a value less than total volting groups')\n",
        "  distances = []\n",
        "  for group in data:\n",
        "    for features in data[group]:\n",
        "      euclidean_distance = np.linalg.norm(np.array(features)-np.array(predict))\n",
        "  distances.append([euclidean_distance,group])\n",
        "  votes = [i[1] for i in sorted(distances)[:k]]\n",
        "  print(Counter(votes).most_common(1))\n",
        "  vote_result = Counter(votes).most_common(1)[0][0]\n",
        "  return vote_result"
      ],
      "execution_count": null,
      "outputs": []
    },
    {
      "cell_type": "code",
      "metadata": {
        "id": "WgZIx7z5UhNG",
        "colab_type": "code",
        "colab": {
          "base_uri": "https://localhost:8080/",
          "height": 51
        },
        "outputId": "5c0a5c07-215e-45c0-f583-89b60b6aa5ca"
      },
      "source": [
        "result = k_nearest_neighbors(dataset, new_features, k=3)\n",
        "print(result)"
      ],
      "execution_count": null,
      "outputs": [
        {
          "output_type": "stream",
          "text": [
            "[('r', 1)]\n",
            "r\n"
          ],
          "name": "stdout"
        }
      ]
    },
    {
      "cell_type": "code",
      "metadata": {
        "id": "EZ7M-NPVUoPU",
        "colab_type": "code",
        "colab": {
          "base_uri": "https://localhost:8080/",
          "height": 34
        },
        "outputId": "82399431-4b5c-4ed3-d26b-3700929c1d45"
      },
      "source": [
        "distances"
      ],
      "execution_count": null,
      "outputs": [
        {
          "output_type": "execute_result",
          "data": {
            "text/plain": [
              "[[3.1622776601683795, 'r']]"
            ]
          },
          "metadata": {
            "tags": []
          },
          "execution_count": 21
        }
      ]
    },
    {
      "cell_type": "code",
      "metadata": {
        "id": "kkBjIqWTZBCZ",
        "colab_type": "code",
        "colab": {}
      },
      "source": [
        ""
      ],
      "execution_count": null,
      "outputs": []
    }
  ]
}