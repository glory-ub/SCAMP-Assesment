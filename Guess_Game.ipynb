{
  "nbformat": 4,
  "nbformat_minor": 0,
  "metadata": {
    "colab": {
      "name": "Guess_Game.ipynb",
      "provenance": [],
      "collapsed_sections": [],
      "authorship_tag": "ABX9TyMnjl7FToYx++OASGnia/v9"
    },
    "kernelspec": {
      "name": "python3",
      "display_name": "Python 3"
    }
  },
  "cells": [
    {
      "cell_type": "code",
      "metadata": {
        "id": "NCzhiQ-N7hMP",
        "colab_type": "code",
        "colab": {
          "base_uri": "https://localhost:8080/",
          "height": 85
        },
        "outputId": "e701c9fb-05cc-4fab-c268-970be6cc7b56"
      },
      "source": [
        "# hey!, it's a guess game\n",
        "import random\n",
        "hidden = random.randrange(1,10)\n",
        "guess = int(input('please enter number: '))\n",
        "count = 1\n",
        "while guess != hidden:\n",
        "  while count <= 3:\n",
        "    if guess < hidden:\n",
        "      print('Oops,guess is low try again')\n",
        "      guess = int(input('please enter another number: '))\n",
        "      count = count+1\n",
        "    elif guess > hidden:\n",
        "      print('Oops,guess is high try again')\n",
        "      guess = int(input('please enter another number: '))\n",
        "      count = count+1\n",
        "    else:\n",
        "      print(\"you guessed right, hidden number is {}, your guess count is {}\".format(hidden,count))\n",
        "      break\n",
        "  if count == 4 and guess == hidden:\n",
        "    print(\"you guessed right, hidden number is {}, you almost lost, your guess count is {}\".format(hidden,count))\n",
        "    break\n",
        "  elif count >= 4:\n",
        "    print(\"you have exhausted your guess count, hidden number is \"+ str(hidden))\n",
        "    break\n",
        "\n",
        "  "
      ],
      "execution_count": null,
      "outputs": [
        {
          "output_type": "stream",
          "text": [
            "please enter number: 4\n",
            "Oops,guess is low try again\n",
            "please enter another number: 7\n",
            "you guessed right, hidden number is 7, your guess count is 2\n"
          ],
          "name": "stdout"
        }
      ]
    },
    {
      "cell_type": "code",
      "metadata": {
        "id": "hyu4fK-LG7oD",
        "colab_type": "code",
        "colab": {
          "base_uri": "https://localhost:8080/",
          "height": 34
        },
        "outputId": "b0322e37-64b4-4ec6-9bb1-d2551485a90f"
      },
      "source": [
        "print(hidden)"
      ],
      "execution_count": null,
      "outputs": [
        {
          "output_type": "stream",
          "text": [
            "4\n"
          ],
          "name": "stdout"
        }
      ]
    }
  ]
}